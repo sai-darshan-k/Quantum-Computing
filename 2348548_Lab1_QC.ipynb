{
  "cells": [
    {
      "cell_type": "markdown",
      "metadata": {
        "id": "view-in-github",
        "colab_type": "text"
      },
      "source": [
        "<a href=\"https://colab.research.google.com/github/sai-darshan-k/Quantum-Computing/blob/main/2348548_Lab1_QC.ipynb\" target=\"_parent\"><img src=\"https://colab.research.google.com/assets/colab-badge.svg\" alt=\"Open In Colab\"/></a>"
      ]
    },
    {
      "cell_type": "markdown",
      "metadata": {
        "id": "MbpZ0JOIR4y6"
      },
      "source": [
        "Represent qubit state vector in matrix notation\n",
        "Define and display state vectors and check their validity\n",
        "Simulate measurements and visualise the result"
      ]
    },
    {
      "cell_type": "code",
      "execution_count": null,
      "metadata": {
        "id": "gLF7rwj1R4y9",
        "outputId": "06f01ced-985a-4ead-88f4-54341ad24d15"
      },
      "outputs": [
        {
          "data": {
            "text/plain": [
              "array([0.5, 0.5])"
            ]
          },
          "metadata": {},
          "output_type": "display_data"
        }
      ],
      "source": [
        "from numpy import array\n",
        "\n",
        "ket0 = array([1,0])\n",
        "ket1 = array([0,1])\n",
        "\n",
        "display(ket0/2 + ket1 /2)"
      ]
    },
    {
      "cell_type": "code",
      "execution_count": null,
      "metadata": {
        "id": "I74KvQpXR4zA",
        "outputId": "1109d2d7-4c3f-4b46-ce55-d0bf6cb66f47"
      },
      "outputs": [
        {
          "data": {
            "text/plain": [
              "array([[1. , 1. ],\n",
              "       [0.5, 0. ]])"
            ]
          },
          "execution_count": 31,
          "metadata": {},
          "output_type": "execute_result"
        }
      ],
      "source": [
        "M1 = array([[1, 1], [0, 0]])\n",
        "M2 = array([[1, 1], [1, 0]])\n",
        "\n",
        "M1/2 + M2/2"
      ]
    },
    {
      "cell_type": "code",
      "execution_count": null,
      "metadata": {
        "id": "B38-SxRtR4zB",
        "outputId": "c63ca519-7048-4b2e-9248-34e750edfecc"
      },
      "outputs": [
        {
          "data": {
            "text/plain": [
              "array([1, 0])"
            ]
          },
          "metadata": {},
          "output_type": "display_data"
        },
        {
          "data": {
            "text/plain": [
              "array([[2, 1],\n",
              "       [0, 0]])"
            ]
          },
          "metadata": {},
          "output_type": "display_data"
        },
        {
          "data": {
            "text/plain": [
              "array([[1, 1],\n",
              "       [1, 1]])"
            ]
          },
          "metadata": {},
          "output_type": "display_data"
        }
      ],
      "source": [
        "from numpy import matmul\n",
        "\n",
        "display(matmul(M1, ket1))\n",
        "display(matmul(M1, M2))\n",
        "display(matmul(M2, M1))"
      ]
    },
    {
      "cell_type": "code",
      "execution_count": null,
      "metadata": {
        "id": "nO7_fSExR4zB",
        "outputId": "87cbeb43-1fb1-40a5-8b08-7c5e7f799190"
      },
      "outputs": [
        {
          "name": "stdout",
          "output_type": "stream",
          "text": [
            "Note: you may need to restart the kernel to use updated packages.\n"
          ]
        },
        {
          "name": "stderr",
          "output_type": "stream",
          "text": [
            "ERROR: Could not find a version that satisfies the requirement qiskit.quantum_info (from versions: none)\n",
            "ERROR: No matching distribution found for qiskit.quantum_info\n"
          ]
        }
      ],
      "source": [
        "pip install qiskit.quantum_info"
      ]
    },
    {
      "cell_type": "code",
      "execution_count": null,
      "metadata": {
        "id": "DDQHdVhRR4zC",
        "outputId": "a546fe4d-253f-4c91-f668-6de04b22b43a"
      },
      "outputs": [
        {
          "name": "stdout",
          "output_type": "stream",
          "text": [
            "Requirement already satisfied: qiskit in c:\\users\\saida\\anaconda3\\lib\\site-packages (1.2.2)\n",
            "Requirement already satisfied: rustworkx>=0.15.0 in c:\\users\\saida\\anaconda3\\lib\\site-packages (from qiskit) (0.15.1)\n",
            "Requirement already satisfied: numpy<3,>=1.17 in c:\\users\\saida\\anaconda3\\lib\\site-packages (from qiskit) (1.26.3)\n",
            "Requirement already satisfied: scipy>=1.5 in c:\\users\\saida\\anaconda3\\lib\\site-packages (from qiskit) (1.11.4)\n",
            "Requirement already satisfied: sympy>=1.3 in c:\\users\\saida\\anaconda3\\lib\\site-packages (from qiskit) (1.12)\n",
            "Requirement already satisfied: dill>=0.3 in c:\\users\\saida\\anaconda3\\lib\\site-packages (from qiskit) (0.3.6)\n",
            "Requirement already satisfied: python-dateutil>=2.8.0 in c:\\users\\saida\\anaconda3\\lib\\site-packages (from qiskit) (2.8.2)\n",
            "Requirement already satisfied: stevedore>=3.0.0 in c:\\users\\saida\\anaconda3\\lib\\site-packages (from qiskit) (5.3.0)\n",
            "Requirement already satisfied: typing-extensions in c:\\users\\saida\\anaconda3\\lib\\site-packages (from qiskit) (4.9.0)\n",
            "Requirement already satisfied: symengine>=0.11 in c:\\users\\saida\\anaconda3\\lib\\site-packages (from qiskit) (0.11.0)\n",
            "Requirement already satisfied: six>=1.5 in c:\\users\\saida\\anaconda3\\lib\\site-packages (from python-dateutil>=2.8.0->qiskit) (1.16.0)\n",
            "Requirement already satisfied: pbr>=2.0.0 in c:\\users\\saida\\anaconda3\\lib\\site-packages (from stevedore>=3.0.0->qiskit) (6.1.0)\n",
            "Requirement already satisfied: mpmath>=0.19 in c:\\users\\saida\\anaconda3\\lib\\site-packages (from sympy>=1.3->qiskit) (1.3.0)\n",
            "Note: you may need to restart the kernel to use updated packages.\n"
          ]
        }
      ],
      "source": [
        "pip install qiskit"
      ]
    },
    {
      "cell_type": "code",
      "execution_count": null,
      "metadata": {
        "id": "JYqhPclHR4zC",
        "outputId": "7ea0a060-af46-42dd-92ce-6e1dc303393b"
      },
      "outputs": [
        {
          "name": "stdout",
          "output_type": "stream",
          "text": [
            "State vectors u,v,w have been defined\n"
          ]
        }
      ],
      "source": [
        "from qiskit.quantum_info import Statevector\n",
        "from numpy import sqrt\n",
        "\n",
        "u = Statevector([1 / sqrt(2), 1 / sqrt(2)])\n",
        "v = Statevector([(1+2.0j)/3,-2/3])\n",
        "w = Statevector([1/3, 2 / 3])\n",
        "\n",
        "print(\"State vectors u,v,w have been defined\")"
      ]
    },
    {
      "cell_type": "code",
      "execution_count": null,
      "metadata": {
        "id": "3OkMeFnpR4zD",
        "outputId": "66b5ce30-b72d-483c-8830-20b8546ad639"
      },
      "outputs": [
        {
          "data": {
            "text/latex": [
              "$$\\frac{\\sqrt{2}}{2} |0\\rangle+\\frac{\\sqrt{2}}{2} |1\\rangle$$"
            ],
            "text/plain": [
              "<IPython.core.display.Latex object>"
            ]
          },
          "metadata": {},
          "output_type": "display_data"
        },
        {
          "data": {
            "text/plain": [
              "[ 0.33333333+0.66666667j,-0.66666667+0.j        ]"
            ]
          },
          "metadata": {},
          "output_type": "display_data"
        }
      ],
      "source": [
        "display(u.draw(\"latex\"))\n",
        "display(v.draw(\"text\"))"
      ]
    },
    {
      "cell_type": "code",
      "execution_count": null,
      "metadata": {
        "id": "SCN5065dR4zD",
        "outputId": "6e7d65aa-6eb5-4234-9a5c-50da39e80484"
      },
      "outputs": [
        {
          "data": {
            "text/plain": [
              "True"
            ]
          },
          "metadata": {},
          "output_type": "display_data"
        },
        {
          "data": {
            "text/plain": [
              "False"
            ]
          },
          "metadata": {},
          "output_type": "display_data"
        }
      ],
      "source": [
        "display(u.is_valid())\n",
        "display(w.is_valid())"
      ]
    },
    {
      "cell_type": "code",
      "execution_count": null,
      "metadata": {
        "id": "4hQtACO1R4zE",
        "outputId": "458843c5-1577-43ab-e387-df0419186ff0"
      },
      "outputs": [
        {
          "data": {
            "text/latex": [
              "$$(\\frac{1}{3} + \\frac{2 i}{3}) |0\\rangle- \\frac{2}{3} |1\\rangle$$"
            ],
            "text/plain": [
              "<IPython.core.display.Latex object>"
            ]
          },
          "execution_count": 38,
          "metadata": {},
          "output_type": "execute_result"
        }
      ],
      "source": [
        "v = Statevector([(1+2.0j) / 3,-2/3])\n",
        "v.draw(\"latex\")"
      ]
    },
    {
      "cell_type": "code",
      "execution_count": null,
      "metadata": {
        "id": "G8duke-ZR4zE",
        "outputId": "440011a1-8696-43e9-f02c-9dd234a60625"
      },
      "outputs": [
        {
          "data": {
            "text/plain": [
              "('1',\n",
              " Statevector([ 0.+0.j, -1.+0.j],\n",
              "             dims=(2,)))"
            ]
          },
          "execution_count": 39,
          "metadata": {},
          "output_type": "execute_result"
        }
      ],
      "source": [
        "v=Statevector([(1+2.0j) / 3,-2/3])\n",
        "v.draw(\"latex\")\n",
        "v.measure()"
      ]
    },
    {
      "cell_type": "code",
      "execution_count": null,
      "metadata": {
        "id": "xnUVBMxIR4zF",
        "outputId": "27ecbc4d-21f1-4f4f-8cc2-cadf4209f1cd"
      },
      "outputs": [
        {
          "data": {
            "text/plain": [
              "{'0': 549, '1': 451}"
            ]
          },
          "metadata": {},
          "output_type": "display_data"
        },
        {
          "data": {
            "image/png": "[encoded data removed]",
            "text/plain": [
              "<Figure size 640x480 with 1 Axes>"
            ]
          },
          "execution_count": 40,
          "metadata": {},
          "output_type": "execute_result"
        }
      ],
      "source": [
        "from qiskit.visualization import plot_histogram\n",
        "\n",
        "statistics = v.sample_counts(1000)\n",
        "display(statistics)\n",
        "plot_histogram(statistics)"
      ]
    },
    {
      "cell_type": "markdown",
      "metadata": {
        "id": "hUPM3b4DR4zF"
      },
      "source": [
        "# My Work"
      ]
    },
    {
      "cell_type": "code",
      "execution_count": null,
      "metadata": {
        "id": "BQ1yzc33R4zF"
      },
      "outputs": [],
      "source": [
        "u = Statevector([1 / sqrt(2), 1 / sqrt(2)])\n",
        "v = Statevector([(2+1j) / sqrt(10), (1-1j) / sqrt(10)])\n",
        "w = Statevector([1/2, sqrt(3) / 2])"
      ]
    },
    {
      "cell_type": "markdown",
      "metadata": {
        "id": "jplXql34R4zG"
      },
      "source": [
        "#### Statevector u is equal to superposition of bais state vectors. It represents the \"plus\" state.Statevector v is a complex superposition it is having both real and imaginary components. State vector w similar as v vector."
      ]
    },
    {
      "cell_type": "code",
      "execution_count": null,
      "metadata": {
        "id": "EuslJg7xR4zG",
        "outputId": "865e47fe-bd2d-4baf-dc6b-2bd43ca8fb22"
      },
      "outputs": [
        {
          "data": {
            "text/latex": [
              "$$\\frac{\\sqrt{2}}{2} |0\\rangle+\\frac{\\sqrt{2}}{2} |1\\rangle$$"
            ],
            "text/plain": [
              "<IPython.core.display.Latex object>"
            ]
          },
          "metadata": {},
          "output_type": "display_data"
        },
        {
          "data": {
            "text/plain": [
              "[0.63245553+0.31622777j,0.31622777-0.31622777j]"
            ]
          },
          "metadata": {},
          "output_type": "display_data"
        },
        {
          "data": {
            "text/latex": [
              "$$\\frac{1}{2} |0\\rangle+\\frac{\\sqrt{3}}{2} |1\\rangle$$"
            ],
            "text/plain": [
              "<IPython.core.display.Latex object>"
            ]
          },
          "metadata": {},
          "output_type": "display_data"
        }
      ],
      "source": [
        "display(u.draw(\"latex\"))\n",
        "display(v.draw(\"text\"))\n",
        "display(w.draw(\"latex\"))"
      ]
    },
    {
      "cell_type": "code",
      "execution_count": null,
      "metadata": {
        "id": "QkZSkyd7R4zH",
        "outputId": "f4fb7236-0927-4856-edb7-5d8c2f98c927"
      },
      "outputs": [
        {
          "data": {
            "text/plain": [
              "True"
            ]
          },
          "metadata": {},
          "output_type": "display_data"
        },
        {
          "data": {
            "text/plain": [
              "True"
            ]
          },
          "metadata": {},
          "output_type": "display_data"
        }
      ],
      "source": [
        "display(u.is_valid())\n",
        "display(w.is_valid())"
      ]
    },
    {
      "cell_type": "markdown",
      "metadata": {
        "id": "Nu3aaKEwR4zH"
      },
      "source": [
        "#### Check whether if the state vectors are normalized or not."
      ]
    },
    {
      "cell_type": "code",
      "execution_count": null,
      "metadata": {
        "id": "8cMVq24kR4zH",
        "outputId": "c41ba5aa-7519-4f5b-d8b3-54bb15542dfc"
      },
      "outputs": [
        {
          "data": {
            "text/latex": [
              "$$\\frac{1}{2} |0\\rangle+\\frac{\\sqrt{3}}{2} |1\\rangle$$"
            ],
            "text/plain": [
              "<IPython.core.display.Latex object>"
            ]
          },
          "execution_count": 48,
          "metadata": {},
          "output_type": "execute_result"
        }
      ],
      "source": [
        "w =Statevector([1/2, sqrt(3) / 2])\n",
        "w.draw(\"latex\")\n"
      ]
    },
    {
      "cell_type": "code",
      "execution_count": null,
      "metadata": {
        "id": "7YYpmS0lR4zI"
      },
      "outputs": [],
      "source": [
        "result = w.measure()"
      ]
    },
    {
      "cell_type": "markdown",
      "metadata": {
        "id": "MYtBaYxsR4zI"
      },
      "source": [
        "measure() will simulate a measurement of the quantum state."
      ]
    },
    {
      "cell_type": "code",
      "execution_count": null,
      "metadata": {
        "id": "-9L01e4bR4zI",
        "outputId": "f1ae1e28-72f7-403c-ae02-7054efc45b0a"
      },
      "outputs": [
        {
          "name": "stdout",
          "output_type": "stream",
          "text": [
            "Measurement result: ('1', Statevector([0.+0.j, 1.+0.j],\n",
            "            dims=(2,)))\n"
          ]
        }
      ],
      "source": [
        "print(f\"Measurement result: {result}\")"
      ]
    },
    {
      "cell_type": "code",
      "execution_count": null,
      "metadata": {
        "id": "5lvDlRszR4zJ",
        "outputId": "929bb90f-6044-40f7-bd23-37927f651a46"
      },
      "outputs": [
        {
          "data": {
            "text/plain": [
              "{'0': 246, '1': 754}"
            ]
          },
          "metadata": {},
          "output_type": "display_data"
        }
      ],
      "source": [
        "statistics = w.sample_counts(1000)\n",
        "display(statistics)"
      ]
    },
    {
      "cell_type": "code",
      "execution_count": null,
      "metadata": {
        "id": "p3IogSeOR4zJ",
        "outputId": "e6537fe6-6ac4-457d-e2ca-5e3ef1005eec"
      },
      "outputs": [
        {
          "data": {
            "image/png": "[encoded data removed]",
            "text/plain": [
              "<Figure size 640x480 with 1 Axes>"
            ]
          },
          "execution_count": 53,
          "metadata": {},
          "output_type": "execute_result"
        }
      ],
      "source": [
        "plot_histogram(statistics)"
      ]
    },
    {
      "cell_type": "markdown",
      "metadata": {
        "id": "xbOyLAzzR4zK"
      },
      "source": [
        "The outcome '0' was observed 246 times.\n",
        "The outcome '1' was observed 754 times.\n",
        "This results in a 25% probability of measuring '0' and a 75% probability of measuring '1'.After performing 1,000 measurements, we observed 246 occurrences of '0' and 754 occurrences of '1'.The results are consistent with the expected probabilities, where '1' occurs much more frequently than '0'.\n"
      ]
    }
  ],
  "metadata": {
    "kernelspec": {
      "display_name": "base",
      "language": "python",
      "name": "python3"
    },
    "language_info": {
      "codemirror_mode": {
        "name": "ipython",
        "version": 3
      },
      "file_extension": ".py",
      "mimetype": "text/x-python",
      "name": "python",
      "nbconvert_exporter": "python",
      "pygments_lexer": "ipython3",
      "version": "3.11.7"
    },
    "colab": {
      "provenance": [],
      "include_colab_link": true
    }
  },
  "nbformat": 4,
  "nbformat_minor": 0
}