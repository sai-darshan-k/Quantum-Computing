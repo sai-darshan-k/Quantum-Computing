{
  "cells": [
    {
      "cell_type": "markdown",
      "metadata": {
        "id": "view-in-github",
        "colab_type": "text"
      },
      "source": [
        "<a href=\"https://colab.research.google.com/github/sai-darshan-k/Quantum-Computing/blob/main/Lab1.ipynb\" target=\"_parent\"><img src=\"https://colab.research.google.com/assets/colab-badge.svg\" alt=\"Open In Colab\"/></a>"
      ]
    },
    {
      "cell_type": "code",
      "execution_count": null,
      "metadata": {
        "id": "dd3hVqS7W3vw",
        "outputId": "9d4c4a63-c03f-44c4-aa0b-f1092519ac2b"
      },
      "outputs": [
        {
          "data": {
            "text/plain": [
              "array([0.5, 0.5])"
            ]
          },
          "metadata": {},
          "output_type": "display_data"
        }
      ],
      "source": [
        "from numpy import array\n",
        "\n",
        "ket0 = array([1,0])\n",
        "ket1 = array([0,1])\n",
        "\n",
        "display(ket0/2 + ket1 /2)"
      ]
    },
    {
      "cell_type": "code",
      "execution_count": null,
      "metadata": {
        "id": "RvNVFTtEW3vx",
        "outputId": "9042b545-862f-4133-8569-7fefc6bcd102"
      },
      "outputs": [
        {
          "data": {
            "text/plain": [
              "array([[1. , 1. ],\n",
              "       [0.5, 0. ]])"
            ]
          },
          "execution_count": 2,
          "metadata": {},
          "output_type": "execute_result"
        }
      ],
      "source": [
        "M1 = array([[1, 1], [0, 0]])\n",
        "M2 = array([[1, 1], [1, 0]])\n",
        "\n",
        "M1/2 + M2/2"
      ]
    },
    {
      "cell_type": "code",
      "execution_count": null,
      "metadata": {
        "id": "CZXpdRFzW3vx",
        "outputId": "f2c58a94-4d6f-484e-c119-65edf2820d51"
      },
      "outputs": [
        {
          "data": {
            "text/plain": [
              "array([1, 0])"
            ]
          },
          "metadata": {},
          "output_type": "display_data"
        },
        {
          "data": {
            "text/plain": [
              "array([[2, 1],\n",
              "       [0, 0]])"
            ]
          },
          "metadata": {},
          "output_type": "display_data"
        },
        {
          "data": {
            "text/plain": [
              "array([[1, 1],\n",
              "       [1, 1]])"
            ]
          },
          "metadata": {},
          "output_type": "display_data"
        }
      ],
      "source": [
        "from numpy import matmul\n",
        "\n",
        "display(matmul(M1, ket1))\n",
        "display(matmul(M1, M2))\n",
        "display(matmul(M2, M1))"
      ]
    },
    {
      "cell_type": "code",
      "execution_count": null,
      "metadata": {
        "id": "6vxp9S66W3vy",
        "outputId": "f03476df-1b27-4477-ad74-0f80103d9074"
      },
      "outputs": [
        {
          "name": "stdout",
          "output_type": "stream",
          "text": [
            "Note: you may need to restart the kernel to use updated packages.\n"
          ]
        },
        {
          "name": "stderr",
          "output_type": "stream",
          "text": [
            "ERROR: Could not find a version that satisfies the requirement qiskit.quantum_info (from versions: none)\n",
            "ERROR: No matching distribution found for qiskit.quantum_info\n"
          ]
        }
      ],
      "source": [
        "pip install qiskit.quantum_info"
      ]
    },
    {
      "cell_type": "code",
      "execution_count": null,
      "metadata": {
        "id": "TJeQGDn6W3vy",
        "outputId": "3df515c4-a13f-4414-82be-d1d02c228357"
      },
      "outputs": [
        {
          "name": "stdout",
          "output_type": "stream",
          "text": [
            "Collecting qiskit\n",
            "  Obtaining dependency information for qiskit from https://files.pythonhosted.org/packages/14/d8/1edebee18f1e402e4afd12f227451ac1f2c69897f01f1f6661f98aa0ee47/qiskit-1.2.2-cp38-abi3-win_amd64.whl.metadata\n",
            "  Downloading qiskit-1.2.2-cp38-abi3-win_amd64.whl.metadata (13 kB)\n",
            "Collecting rustworkx>=0.15.0 (from qiskit)\n",
            "  Obtaining dependency information for rustworkx>=0.15.0 from https://files.pythonhosted.org/packages/9c/c6/50f5736f5dac1709c6c8b6ac3470f466fd793dd25c081923942caf13051f/rustworkx-0.15.1-cp38-abi3-win_amd64.whl.metadata\n",
            "  Downloading rustworkx-0.15.1-cp38-abi3-win_amd64.whl.metadata (10 kB)\n",
            "Requirement already satisfied: numpy<3,>=1.17 in c:\\users\\saida\\anaconda3\\lib\\site-packages (from qiskit) (1.26.3)\n",
            "Requirement already satisfied: scipy>=1.5 in c:\\users\\saida\\anaconda3\\lib\\site-packages (from qiskit) (1.11.4)\n",
            "Requirement already satisfied: sympy>=1.3 in c:\\users\\saida\\anaconda3\\lib\\site-packages (from qiskit) (1.12)\n",
            "Requirement already satisfied: dill>=0.3 in c:\\users\\saida\\anaconda3\\lib\\site-packages (from qiskit) (0.3.6)\n",
            "Requirement already satisfied: python-dateutil>=2.8.0 in c:\\users\\saida\\anaconda3\\lib\\site-packages (from qiskit) (2.8.2)\n",
            "Collecting stevedore>=3.0.0 (from qiskit)\n",
            "  Obtaining dependency information for stevedore>=3.0.0 from https://files.pythonhosted.org/packages/ec/50/70762bdb23f6c2b746b90661f461d33c4913a22a46bb5265b10947e85ffb/stevedore-5.3.0-py3-none-any.whl.metadata\n",
            "  Downloading stevedore-5.3.0-py3-none-any.whl.metadata (2.3 kB)\n",
            "Requirement already satisfied: typing-extensions in c:\\users\\saida\\anaconda3\\lib\\site-packages (from qiskit) (4.9.0)\n",
            "Collecting symengine>=0.11 (from qiskit)\n",
            "  Obtaining dependency information for symengine>=0.11 from https://files.pythonhosted.org/packages/3f/eb/6ab4e27e48427b11963a0a0a094ff0260fb849a6a8ccf22b7c0747007101/symengine-0.11.0-cp311-cp311-win_amd64.whl.metadata\n",
            "  Downloading symengine-0.11.0-cp311-cp311-win_amd64.whl.metadata (1.2 kB)\n",
            "Requirement already satisfied: six>=1.5 in c:\\users\\saida\\anaconda3\\lib\\site-packages (from python-dateutil>=2.8.0->qiskit) (1.16.0)\n",
            "Collecting pbr>=2.0.0 (from stevedore>=3.0.0->qiskit)\n",
            "  Obtaining dependency information for pbr>=2.0.0 from https://files.pythonhosted.org/packages/1d/44/6a65ecd630393d47ad3e7d5354768cb7f9a10b3a0eb2cd8c6f52b28211ee/pbr-6.1.0-py2.py3-none-any.whl.metadata\n",
            "  Downloading pbr-6.1.0-py2.py3-none-any.whl.metadata (3.4 kB)\n",
            "Requirement already satisfied: mpmath>=0.19 in c:\\users\\saida\\anaconda3\\lib\\site-packages (from sympy>=1.3->qiskit) (1.3.0)\n",
            "Downloading qiskit-1.2.2-cp38-abi3-win_amd64.whl (4.6 MB)\n",
            "   ---------------------------------------- 0.0/4.6 MB ? eta -:--:--\n",
            "   ---------------------------------------- 0.0/4.6 MB 1.4 MB/s eta 0:00:04\n",
            "   ---------------------------------------- 0.0/4.6 MB 1.4 MB/s eta 0:00:04\n",
            "   ---------------------------------------- 0.0/4.6 MB 1.4 MB/s eta 0:00:04\n",
            "    --------------------------------------- 0.1/4.6 MB 525.1 kB/s eta 0:00:09\n",
            "   - -------------------------------------- 0.1/4.6 MB 516.7 kB/s eta 0:00:09\n",
            "   - -------------------------------------- 0.2/4.6 MB 619.5 kB/s eta 0:00:08\n",
            "   -- ------------------------------------- 0.2/4.6 MB 718.0 kB/s eta 0:00:07\n",
            "   -- ------------------------------------- 0.3/4.6 MB 713.1 kB/s eta 0:00:07\n",
            "   --- ------------------------------------ 0.4/4.6 MB 851.3 kB/s eta 0:00:05\n",
            "   --- ------------------------------------ 0.4/4.6 MB 937.3 kB/s eta 0:00:05\n",
            "   --- ------------------------------------ 0.4/4.6 MB 937.3 kB/s eta 0:00:05\n",
            "   --- ------------------------------------ 0.4/4.6 MB 937.3 kB/s eta 0:00:05\n",
            "   ---- ----------------------------------- 0.5/4.6 MB 874.6 kB/s eta 0:00:05\n",
            "   ---- ----------------------------------- 0.5/4.6 MB 846.1 kB/s eta 0:00:05\n",
            "   ---- ----------------------------------- 0.6/4.6 MB 842.9 kB/s eta 0:00:05\n",
            "   ----- ---------------------------------- 0.6/4.6 MB 903.1 kB/s eta 0:00:05\n",
            "   ------ --------------------------------- 0.7/4.6 MB 984.1 kB/s eta 0:00:04\n",
            "   ------ --------------------------------- 0.8/4.6 MB 1.0 MB/s eta 0:00:04\n",
            "   ------- -------------------------------- 0.9/4.6 MB 1.1 MB/s eta 0:00:04\n",
            "   -------- ------------------------------- 1.0/4.6 MB 1.1 MB/s eta 0:00:04\n",
            "   --------- ------------------------------ 1.1/4.6 MB 1.2 MB/s eta 0:00:03\n",
            "   ---------- ----------------------------- 1.2/4.6 MB 1.3 MB/s eta 0:00:03\n",
            "   ---------- ----------------------------- 1.2/4.6 MB 1.3 MB/s eta 0:00:03\n",
            "   ----------- ---------------------------- 1.4/4.6 MB 1.3 MB/s eta 0:00:03\n",
            "   ------------ --------------------------- 1.4/4.6 MB 1.3 MB/s eta 0:00:03\n",
            "   ------------- -------------------------- 1.5/4.6 MB 1.3 MB/s eta 0:00:03\n",
            "   -------------- ------------------------- 1.6/4.6 MB 1.4 MB/s eta 0:00:03\n",
            "   --------------- ------------------------ 1.7/4.6 MB 1.4 MB/s eta 0:00:03\n",
            "   ---------------- ----------------------- 1.9/4.6 MB 1.5 MB/s eta 0:00:02\n",
            "   ----------------- ---------------------- 2.0/4.6 MB 1.5 MB/s eta 0:00:02\n",
            "   ------------------ --------------------- 2.2/4.6 MB 1.6 MB/s eta 0:00:02\n",
            "   ------------------- -------------------- 2.2/4.6 MB 1.5 MB/s eta 0:00:02\n",
            "   -------------------- ------------------- 2.3/4.6 MB 1.6 MB/s eta 0:00:02\n",
            "   --------------------- ------------------ 2.4/4.6 MB 1.6 MB/s eta 0:00:02\n",
            "   ---------------------- ----------------- 2.6/4.6 MB 1.7 MB/s eta 0:00:02\n",
            "   ----------------------- ---------------- 2.7/4.6 MB 1.7 MB/s eta 0:00:02\n",
            "   ------------------------ --------------- 2.9/4.6 MB 1.7 MB/s eta 0:00:01\n",
            "   -------------------------- ------------- 3.0/4.6 MB 1.8 MB/s eta 0:00:01\n",
            "   --------------------------- ------------ 3.1/4.6 MB 1.8 MB/s eta 0:00:01\n",
            "   ----------------------------- ---------- 3.3/4.6 MB 1.9 MB/s eta 0:00:01\n",
            "   ------------------------------ --------- 3.5/4.6 MB 1.9 MB/s eta 0:00:01\n",
            "   ------------------------------- -------- 3.6/4.6 MB 2.0 MB/s eta 0:00:01\n",
            "   -------------------------------- ------- 3.7/4.6 MB 2.0 MB/s eta 0:00:01\n",
            "   ---------------------------------- ----- 3.9/4.6 MB 2.0 MB/s eta 0:00:01\n",
            "   ------------------------------------ --- 4.2/4.6 MB 2.1 MB/s eta 0:00:01\n",
            "   ------------------------------------- -- 4.3/4.6 MB 2.1 MB/s eta 0:00:01\n",
            "   -------------------------------------- - 4.5/4.6 MB 2.1 MB/s eta 0:00:01\n",
            "   ---------------------------------------- 4.6/4.6 MB 2.1 MB/s eta 0:00:00\n",
            "Downloading rustworkx-0.15.1-cp38-abi3-win_amd64.whl (1.8 MB)\n",
            "   ---------------------------------------- 0.0/1.8 MB ? eta -:--:--\n",
            "   -- ------------------------------------- 0.1/1.8 MB 6.4 MB/s eta 0:00:01\n",
            "   ------- -------------------------------- 0.3/1.8 MB 3.5 MB/s eta 0:00:01\n",
            "   --------- ------------------------------ 0.5/1.8 MB 3.5 MB/s eta 0:00:01\n",
            "   -------------- ------------------------- 0.6/1.8 MB 3.4 MB/s eta 0:00:01\n",
            "   -------------------- ------------------- 0.9/1.8 MB 4.0 MB/s eta 0:00:01\n",
            "   ----------------------- ---------------- 1.1/1.8 MB 3.6 MB/s eta 0:00:01\n",
            "   ---------------------------- ----------- 1.3/1.8 MB 3.8 MB/s eta 0:00:01\n",
            "   ----------------------------- ---------- 1.4/1.8 MB 3.5 MB/s eta 0:00:01\n",
            "   ---------------------------------- ----- 1.6/1.8 MB 3.6 MB/s eta 0:00:01\n",
            "   ------------------------------------- -- 1.7/1.8 MB 3.4 MB/s eta 0:00:01\n",
            "   ---------------------------------------- 1.8/1.8 MB 3.4 MB/s eta 0:00:00\n",
            "Downloading stevedore-5.3.0-py3-none-any.whl (49 kB)\n",
            "   ---------------------------------------- 0.0/49.7 kB ? eta -:--:--\n",
            "   ---------------------------------------- 49.7/49.7 kB 2.5 MB/s eta 0:00:00\n",
            "Downloading symengine-0.11.0-cp311-cp311-win_amd64.whl (16.7 MB)\n",
            "   ---------------------------------------- 0.0/16.7 MB ? eta -:--:--\n",
            "   ---------------------------------------- 0.2/16.7 MB 9.6 MB/s eta 0:00:02\n",
            "    --------------------------------------- 0.4/16.7 MB 5.8 MB/s eta 0:00:03\n",
            "   - -------------------------------------- 0.5/16.7 MB 4.8 MB/s eta 0:00:04\n",
            "   - -------------------------------------- 0.6/16.7 MB 4.5 MB/s eta 0:00:04\n",
            "   -- ------------------------------------- 0.9/16.7 MB 4.6 MB/s eta 0:00:04\n",
            "   -- ------------------------------------- 1.0/16.7 MB 4.7 MB/s eta 0:00:04\n",
            "   --- ------------------------------------ 1.3/16.7 MB 4.4 MB/s eta 0:00:04\n",
            "   --- ------------------------------------ 1.5/16.7 MB 4.4 MB/s eta 0:00:04\n",
            "   --- ------------------------------------ 1.6/16.7 MB 4.3 MB/s eta 0:00:04\n",
            "   --- ------------------------------------ 1.6/16.7 MB 4.3 MB/s eta 0:00:04\n",
            "   --- ------------------------------------ 1.6/16.7 MB 4.3 MB/s eta 0:00:04\n",
            "   --- ------------------------------------ 1.6/16.7 MB 4.3 MB/s eta 0:00:04\n",
            "   ---- ----------------------------------- 1.9/16.7 MB 3.1 MB/s eta 0:00:05\n",
            "   ---- ----------------------------------- 2.1/16.7 MB 3.2 MB/s eta 0:00:05\n",
            "   ----- ---------------------------------- 2.3/16.7 MB 3.4 MB/s eta 0:00:05\n",
            "   ----- ---------------------------------- 2.5/16.7 MB 3.3 MB/s eta 0:00:05\n",
            "   ------ --------------------------------- 2.7/16.7 MB 3.5 MB/s eta 0:00:04\n",
            "   ------- -------------------------------- 3.0/16.7 MB 3.6 MB/s eta 0:00:04\n",
            "   ------- -------------------------------- 3.3/16.7 MB 3.7 MB/s eta 0:00:04\n",
            "   -------- ------------------------------- 3.3/16.7 MB 3.7 MB/s eta 0:00:04\n",
            "   -------- ------------------------------- 3.4/16.7 MB 3.5 MB/s eta 0:00:04\n",
            "   -------- ------------------------------- 3.5/16.7 MB 3.5 MB/s eta 0:00:04\n",
            "   -------- ------------------------------- 3.7/16.7 MB 3.4 MB/s eta 0:00:04\n",
            "   --------- ------------------------------ 3.9/16.7 MB 3.5 MB/s eta 0:00:04\n",
            "   --------- ------------------------------ 4.1/16.7 MB 3.6 MB/s eta 0:00:04\n",
            "   ---------- ----------------------------- 4.3/16.7 MB 3.6 MB/s eta 0:00:04\n",
            "   ---------- ----------------------------- 4.5/16.7 MB 3.6 MB/s eta 0:00:04\n",
            "   ----------- ---------------------------- 4.7/16.7 MB 3.7 MB/s eta 0:00:04\n",
            "   ----------- ---------------------------- 4.9/16.7 MB 3.7 MB/s eta 0:00:04\n",
            "   ------------ --------------------------- 5.1/16.7 MB 3.7 MB/s eta 0:00:04\n",
            "   ------------ --------------------------- 5.3/16.7 MB 3.8 MB/s eta 0:00:04\n",
            "   ------------- -------------------------- 5.6/16.7 MB 3.7 MB/s eta 0:00:03\n",
            "   ------------- -------------------------- 5.6/16.7 MB 3.7 MB/s eta 0:00:03\n",
            "   ------------- -------------------------- 5.7/16.7 MB 3.6 MB/s eta 0:00:04\n",
            "   -------------- ------------------------- 6.0/16.7 MB 3.7 MB/s eta 0:00:03\n",
            "   -------------- ------------------------- 6.1/16.7 MB 3.7 MB/s eta 0:00:03\n",
            "   --------------- ------------------------ 6.4/16.7 MB 3.7 MB/s eta 0:00:03\n",
            "   --------------- ------------------------ 6.6/16.7 MB 3.7 MB/s eta 0:00:03\n",
            "   ---------------- ----------------------- 6.8/16.7 MB 3.8 MB/s eta 0:00:03\n",
            "   ---------------- ----------------------- 7.0/16.7 MB 3.8 MB/s eta 0:00:03\n",
            "   ----------------- ---------------------- 7.3/16.7 MB 3.8 MB/s eta 0:00:03\n",
            "   ------------------ --------------------- 7.5/16.7 MB 3.9 MB/s eta 0:00:03\n",
            "   ------------------ --------------------- 7.7/16.7 MB 3.9 MB/s eta 0:00:03\n",
            "   ------------------ --------------------- 7.9/16.7 MB 3.9 MB/s eta 0:00:03\n",
            "   ------------------- -------------------- 8.1/16.7 MB 3.9 MB/s eta 0:00:03\n",
            "   ------------------- -------------------- 8.3/16.7 MB 3.9 MB/s eta 0:00:03\n",
            "   -------------------- ------------------- 8.5/16.7 MB 3.9 MB/s eta 0:00:03\n",
            "   -------------------- ------------------- 8.6/16.7 MB 3.9 MB/s eta 0:00:03\n",
            "   --------------------- ------------------ 8.8/16.7 MB 3.9 MB/s eta 0:00:03\n",
            "   --------------------- ------------------ 9.0/16.7 MB 3.9 MB/s eta 0:00:02\n",
            "   --------------------- ------------------ 9.1/16.7 MB 3.9 MB/s eta 0:00:02\n",
            "   ---------------------- ----------------- 9.4/16.7 MB 3.9 MB/s eta 0:00:02\n",
            "   ---------------------- ----------------- 9.6/16.7 MB 4.0 MB/s eta 0:00:02\n",
            "   ----------------------- ---------------- 9.8/16.7 MB 4.0 MB/s eta 0:00:02\n",
            "   ------------------------ --------------- 10.0/16.7 MB 4.0 MB/s eta 0:00:02\n",
            "   ------------------------ --------------- 10.2/16.7 MB 4.0 MB/s eta 0:00:02\n",
            "   ------------------------- -------------- 10.4/16.7 MB 4.0 MB/s eta 0:00:02\n",
            "   ------------------------- -------------- 10.6/16.7 MB 4.0 MB/s eta 0:00:02\n",
            "   ------------------------- -------------- 10.8/16.7 MB 4.0 MB/s eta 0:00:02\n",
            "   -------------------------- ------------- 11.0/16.7 MB 4.0 MB/s eta 0:00:02\n",
            "   -------------------------- ------------- 11.2/16.7 MB 4.0 MB/s eta 0:00:02\n",
            "   --------------------------- ------------ 11.4/16.7 MB 4.0 MB/s eta 0:00:02\n",
            "   --------------------------- ------------ 11.6/16.7 MB 4.0 MB/s eta 0:00:02\n",
            "   ---------------------------- ----------- 11.8/16.7 MB 4.0 MB/s eta 0:00:02\n",
            "   ---------------------------- ----------- 12.0/16.7 MB 4.3 MB/s eta 0:00:02\n",
            "   ----------------------------- ---------- 12.2/16.7 MB 4.3 MB/s eta 0:00:02\n",
            "   ----------------------------- ---------- 12.4/16.7 MB 4.3 MB/s eta 0:00:01\n",
            "   ------------------------------ --------- 12.6/16.7 MB 4.3 MB/s eta 0:00:01\n",
            "   ------------------------------ --------- 12.8/16.7 MB 4.3 MB/s eta 0:00:01\n",
            "   ------------------------------- -------- 13.0/16.7 MB 4.3 MB/s eta 0:00:01\n",
            "   ------------------------------- -------- 13.2/16.7 MB 4.3 MB/s eta 0:00:01\n",
            "   -------------------------------- ------- 13.4/16.7 MB 4.3 MB/s eta 0:00:01\n",
            "   -------------------------------- ------- 13.6/16.7 MB 4.4 MB/s eta 0:00:01\n",
            "   -------------------------------- ------- 13.7/16.7 MB 4.4 MB/s eta 0:00:01\n",
            "   --------------------------------- ------ 13.9/16.7 MB 4.4 MB/s eta 0:00:01\n",
            "   --------------------------------- ------ 14.0/16.7 MB 4.3 MB/s eta 0:00:01\n",
            "   ---------------------------------- ----- 14.2/16.7 MB 4.3 MB/s eta 0:00:01\n",
            "   ---------------------------------- ----- 14.4/16.7 MB 4.3 MB/s eta 0:00:01\n",
            "   ----------------------------------- ---- 14.7/16.7 MB 4.4 MB/s eta 0:00:01\n",
            "   ----------------------------------- ---- 14.8/16.7 MB 4.4 MB/s eta 0:00:01\n",
            "   ----------------------------------- ---- 14.9/16.7 MB 4.3 MB/s eta 0:00:01\n",
            "   ------------------------------------ --- 15.2/16.7 MB 4.3 MB/s eta 0:00:01\n",
            "   ------------------------------------ --- 15.4/16.7 MB 4.3 MB/s eta 0:00:01\n",
            "   ------------------------------------- -- 15.6/16.7 MB 4.3 MB/s eta 0:00:01\n",
            "   ------------------------------------- -- 15.8/16.7 MB 4.3 MB/s eta 0:00:01\n",
            "   -------------------------------------- - 16.0/16.7 MB 4.4 MB/s eta 0:00:01\n",
            "   -------------------------------------- - 16.2/16.7 MB 4.4 MB/s eta 0:00:01\n",
            "   ---------------------------------------  16.4/16.7 MB 4.5 MB/s eta 0:00:01\n",
            "   ---------------------------------------  16.6/16.7 MB 4.5 MB/s eta 0:00:01\n",
            "   ---------------------------------------  16.7/16.7 MB 4.5 MB/s eta 0:00:01\n",
            "   ---------------------------------------- 16.7/16.7 MB 4.4 MB/s eta 0:00:00\n",
            "Downloading pbr-6.1.0-py2.py3-none-any.whl (108 kB)\n",
            "   ---------------------------------------- 0.0/108.5 kB ? eta -:--:--\n",
            "   ---------------------------------------- 108.5/108.5 kB 6.1 MB/s eta 0:00:00\n",
            "Installing collected packages: symengine, rustworkx, pbr, stevedore, qiskit\n",
            "Successfully installed pbr-6.1.0 qiskit-1.2.2 rustworkx-0.15.1 stevedore-5.3.0 symengine-0.11.0\n",
            "Note: you may need to restart the kernel to use updated packages.\n"
          ]
        }
      ],
      "source": [
        "pip install qiskit"
      ]
    },
    {
      "cell_type": "code",
      "execution_count": null,
      "metadata": {
        "id": "hEHWGvcYW3vy",
        "outputId": "8fdafa4d-2528-471a-ed3d-bb13917a4245"
      },
      "outputs": [
        {
          "name": "stdout",
          "output_type": "stream",
          "text": [
            "State vectors u,v,w have been defined\n"
          ]
        }
      ],
      "source": [
        "from qiskit.quantum_info import Statevector\n",
        "from numpy import sqrt\n",
        "\n",
        "u = Statevector([1 / sqrt(2), 1 / sqrt(2)])\n",
        "v = Statevector([(1+2.0j)/3,-2/3])\n",
        "w = Statevector([1/3, 2 / 3])\n",
        "\n",
        "print(\"State vectors u,v,w have been defined\")"
      ]
    },
    {
      "cell_type": "code",
      "execution_count": null,
      "metadata": {
        "id": "-BVFzF30W3vy",
        "outputId": "684267da-a49e-4490-f6ca-fe62269c656c"
      },
      "outputs": [
        {
          "data": {
            "text/latex": [
              "$$\\frac{\\sqrt{2}}{2} |0\\rangle+\\frac{\\sqrt{2}}{2} |1\\rangle$$"
            ],
            "text/plain": [
              "<IPython.core.display.Latex object>"
            ]
          },
          "metadata": {},
          "output_type": "display_data"
        },
        {
          "data": {
            "text/plain": [
              "[ 0.33333333+0.66666667j,-0.66666667+0.j        ]"
            ]
          },
          "metadata": {},
          "output_type": "display_data"
        }
      ],
      "source": [
        "display(u.draw(\"latex\"))\n",
        "display(v.draw(\"text\"))"
      ]
    },
    {
      "cell_type": "code",
      "execution_count": null,
      "metadata": {
        "id": "h00yijAGW3vz",
        "outputId": "ea999649-2586-4d5a-d9ef-1d7589bfe9d1"
      },
      "outputs": [
        {
          "data": {
            "text/plain": [
              "True"
            ]
          },
          "metadata": {},
          "output_type": "display_data"
        },
        {
          "data": {
            "text/plain": [
              "False"
            ]
          },
          "metadata": {},
          "output_type": "display_data"
        }
      ],
      "source": [
        "display(u.is_valid())\n",
        "display(w.is_valid())"
      ]
    },
    {
      "cell_type": "code",
      "execution_count": null,
      "metadata": {
        "id": "bvS91G_mW3vz",
        "outputId": "74193bb8-cbee-4b38-a605-df31f3f7e93f"
      },
      "outputs": [
        {
          "data": {
            "text/latex": [
              "$$(\\frac{1}{3} + \\frac{2 i}{3}) |0\\rangle- \\frac{2}{3} |1\\rangle$$"
            ],
            "text/plain": [
              "<IPython.core.display.Latex object>"
            ]
          },
          "execution_count": 15,
          "metadata": {},
          "output_type": "execute_result"
        }
      ],
      "source": [
        "v = Statevector([(1+2.0j) / 3,-2/3])\n",
        "v.draw(\"latex\")"
      ]
    },
    {
      "cell_type": "code",
      "execution_count": null,
      "metadata": {
        "id": "ofZiHg35W3vz",
        "outputId": "1d10f169-6a8d-4a60-cfba-0ff6f19a2bdb"
      },
      "outputs": [
        {
          "data": {
            "text/plain": [
              "('1',\n",
              " Statevector([ 0.+0.j, -1.+0.j],\n",
              "             dims=(2,)))"
            ]
          },
          "execution_count": 16,
          "metadata": {},
          "output_type": "execute_result"
        }
      ],
      "source": [
        "v=Statevector([(1+2.0j) / 3,-2/3])\n",
        "v.draw(\"latex\")\n",
        "v.measure()"
      ]
    },
    {
      "cell_type": "code",
      "execution_count": null,
      "metadata": {
        "id": "Lpgef5JyW3vz",
        "outputId": "f54d645d-09f7-4561-9018-19a022389409"
      },
      "outputs": [
        {
          "data": {
            "text/plain": [
              "{'0': 564, '1': 436}"
            ]
          },
          "metadata": {},
          "output_type": "display_data"
        },
        {
          "data": {
            "image/png": "[encoded data removed]",
            "text/plain": [
              "<Figure size 640x480 with 1 Axes>"
            ]
          },
          "execution_count": 17,
          "metadata": {},
          "output_type": "execute_result"
        }
      ],
      "source": [
        "from qiskit.visualization import plot_histogram\n",
        "\n",
        "statistics = v.sample_counts(1000)\n",
        "display(statistics)\n",
        "plot_histogram(statistics)"
      ]
    },
    {
      "cell_type": "code",
      "execution_count": null,
      "metadata": {
        "id": "avxQWcOLW3vz"
      },
      "outputs": [],
      "source": []
    }
  ],
  "metadata": {
    "kernelspec": {
      "display_name": "base",
      "language": "python",
      "name": "python3"
    },
    "language_info": {
      "codemirror_mode": {
        "name": "ipython",
        "version": 3
      },
      "file_extension": ".py",
      "mimetype": "text/x-python",
      "name": "python",
      "nbconvert_exporter": "python",
      "pygments_lexer": "ipython3",
      "version": "3.11.7"
    },
    "colab": {
      "provenance": [],
      "include_colab_link": true
    }
  },
  "nbformat": 4,
  "nbformat_minor": 0
}