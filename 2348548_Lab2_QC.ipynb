{
  "cells": [
    {
      "cell_type": "markdown",
      "metadata": {
        "id": "view-in-github",
        "colab_type": "text"
      },
      "source": [
        "<a href=\"https://colab.research.google.com/github/sai-darshan-k/Quantum-Computing/blob/main/2348548_Lab2_QC.ipynb\" target=\"_parent\"><img src=\"https://colab.research.google.com/assets/colab-badge.svg\" alt=\"Open In Colab\"/></a>"
      ]
    },
    {
      "cell_type": "markdown",
      "metadata": {
        "id": "F_4sTDBeSEh_"
      },
      "source": [
        "1. Perform the operation X, Y, Z, H, S, T\n",
        "2. Execute the operations on a state vector.\n",
        "3. Draw a simple circuit for these operation.\n",
        "4. Finally,  simulate the result of running this experiment  10000 times.\n",
        "5. Proof that R is square root of NOT  operation. where R is a Hadamard operation, followed by the S operation, followed by another Hadamard operation."
      ]
    },
    {
      "cell_type": "code",
      "execution_count": null,
      "metadata": {
        "id": "Hy_zurMpSEiC"
      },
      "outputs": [],
      "source": [
        "from qiskit.quantum_info import Operator\n",
        "from qiskit.quantum_info import Statevector\n",
        "from qiskit import QuantumCircuit\n",
        "from qiskit.visualization import plot_histogram, circuit_drawer\n",
        "from numpy import sqrt\n",
        "import numpy as np"
      ]
    },
    {
      "cell_type": "markdown",
      "metadata": {
        "id": "-h9vrZK4SEiE"
      },
      "source": [
        "### Defining Quantum Gates"
      ]
    },
    {
      "cell_type": "code",
      "execution_count": null,
      "metadata": {
        "id": "myg0dulPSEiE"
      },
      "outputs": [],
      "source": [
        "\n",
        "X = Operator([[0, 1], [1, 0]])\n",
        "Y = Operator([[0, -1.0j], [1.0j, 0]])\n",
        "Z = Operator([[1, 0], [0, -1]])\n",
        "H = Operator([[1/sqrt(2), 1/sqrt(2)], [1/sqrt(2), -1/sqrt(2)]])\n",
        "S = Operator([[1, 0], [0, 1j]])\n",
        "T = Operator([[1, 0], [0, (1.0+1.0j)/sqrt(2)]])\n",
        "\n",
        "v = Statevector([0,1])"
      ]
    },
    {
      "cell_type": "code",
      "execution_count": null,
      "metadata": {
        "id": "TpSubIjjSEiF",
        "outputId": "6e9ef4f1-c5d3-46b7-8322-7564ca204734"
      },
      "outputs": [
        {
          "name": "stdout",
          "output_type": "stream",
          "text": [
            "Initial State Vector |1>:\n",
            "Statevector([0.+0.j, 1.+0.j],\n",
            "            dims=(2,))\n"
          ]
        }
      ],
      "source": [
        "print(\"Initial State Vector |1>:\")\n",
        "print(v)"
      ]
    },
    {
      "cell_type": "code",
      "execution_count": null,
      "metadata": {
        "id": "F8FqrGVUSEiG",
        "outputId": "c0371726-ad95-4278-929e-ed3523eca1f9"
      },
      "outputs": [
        {
          "name": "stdout",
          "output_type": "stream",
          "text": [
            "\n",
            "State after applying X gate:\n",
            "Operator([[0.+0.j, 1.+0.j],\n",
            "          [0.+0.j, 0.+0.j]],\n",
            "         input_dims=(2,), output_dims=(2,))\n"
          ]
        }
      ],
      "source": [
        "v = X @ v\n",
        "\n",
        "print(\"\\nState after applying X gate:\")\n",
        "print(v)"
      ]
    },
    {
      "cell_type": "code",
      "execution_count": null,
      "metadata": {
        "id": "inbKiklwSEiH",
        "outputId": "f16d680d-6921-4d51-dce6-d86c6ab384b2"
      },
      "outputs": [
        {
          "name": "stdout",
          "output_type": "stream",
          "text": [
            "\n",
            "State after applying Y gate:\n",
            "Operator([[0.+0.j, 0.+0.j],\n",
            "          [0.+0.j, 0.+1.j]],\n",
            "         input_dims=(2,), output_dims=(2,))\n"
          ]
        }
      ],
      "source": [
        "v = Y @ v\n",
        "\n",
        "print(\"\\nState after applying Y gate:\")\n",
        "print(v)"
      ]
    },
    {
      "cell_type": "code",
      "execution_count": null,
      "metadata": {
        "id": "2ScTNr6YSEiH",
        "outputId": "ed75ea41-51f0-47b8-f92b-9ebc047f12d9"
      },
      "outputs": [
        {
          "name": "stdout",
          "output_type": "stream",
          "text": [
            "\n",
            "State after applying Z gate:\n",
            "Operator([[0.+0.j, 0.+0.j],\n",
            "          [0.+0.j, 0.-1.j]],\n",
            "         input_dims=(2,), output_dims=(2,))\n"
          ]
        }
      ],
      "source": [
        "v = Z @ v\n",
        "\n",
        "print(\"\\nState after applying Z gate:\")\n",
        "print(v)"
      ]
    },
    {
      "cell_type": "code",
      "execution_count": null,
      "metadata": {
        "id": "x7N0nrOdSEiI",
        "outputId": "ab0a385c-b80f-4c57-c8b4-323f67986591"
      },
      "outputs": [
        {
          "name": "stdout",
          "output_type": "stream",
          "text": [
            "\n",
            "State after applying H gate:\n",
            "Operator([[0.+0.j        , 0.-0.70710678j],\n",
            "          [0.+0.j        , 0.+0.70710678j]],\n",
            "         input_dims=(2,), output_dims=(2,))\n"
          ]
        }
      ],
      "source": [
        "v = H @ v\n",
        "\n",
        "print(\"\\nState after applying H gate:\")\n",
        "print(v)"
      ]
    },
    {
      "cell_type": "code",
      "execution_count": null,
      "metadata": {
        "id": "FsPMeanzSEiI",
        "outputId": "fe630c2d-4012-4d21-f27f-e4812015fb46"
      },
      "outputs": [
        {
          "name": "stdout",
          "output_type": "stream",
          "text": [
            "\n",
            "State after applying S gate:\n",
            "Operator([[ 0.        +0.j        ,  0.        -0.70710678j],\n",
            "          [ 0.        +0.j        , -0.70710678+0.j        ]],\n",
            "         input_dims=(2,), output_dims=(2,))\n"
          ]
        }
      ],
      "source": [
        "v = S @ v\n",
        "\n",
        "print(\"\\nState after applying S gate:\")\n",
        "print(v)"
      ]
    },
    {
      "cell_type": "code",
      "execution_count": null,
      "metadata": {
        "id": "KL_HvyaESEiJ",
        "outputId": "388be8d9-660e-4caa-f407-e3bbd38b28f5"
      },
      "outputs": [
        {
          "name": "stdout",
          "output_type": "stream",
          "text": [
            "\n",
            "State after applying T gate:\n",
            "Operator([[ 0. +0.j        ,  0. -0.70710678j],\n",
            "          [ 0. +0.j        , -0.5-0.5j       ]],\n",
            "         input_dims=(2,), output_dims=(2,))\n"
          ]
        }
      ],
      "source": [
        "v = T @ v\n",
        "\n",
        "print(\"\\nState after applying T gate:\")\n",
        "print(v)"
      ]
    },
    {
      "cell_type": "markdown",
      "metadata": {
        "id": "UpWvRip2SEiJ"
      },
      "source": [
        "## Drawing the Quantum Circuit"
      ]
    },
    {
      "cell_type": "code",
      "execution_count": null,
      "metadata": {
        "id": "xWjxoc1SSEiK",
        "outputId": "c8dd8e0d-ca35-4bb7-c528-4ee504191e5e"
      },
      "outputs": [
        {
          "data": {
            "image/png": "[encoded data removed]",
            "text/plain": [
              "<Figure size 603.508x117.056 with 1 Axes>"
            ]
          },
          "metadata": {},
          "output_type": "display_data"
        }
      ],
      "source": [
        "circuit = QuantumCircuit(1)\n",
        "circuit.x(0)\n",
        "circuit.y(0)\n",
        "circuit.z(0)\n",
        "circuit.h(0)\n",
        "circuit.s(0)\n",
        "circuit.t(0)\n",
        "\n",
        "display(circuit.draw(output='mpl'))"
      ]
    },
    {
      "cell_type": "code",
      "execution_count": null,
      "metadata": {
        "id": "r1NCMbGcSEiK",
        "outputId": "5ae02e78-4f00-4b40-885d-1ef5ff1c228a"
      },
      "outputs": [
        {
          "data": {
            "image/png": "[encoded data removed]",
            "text/plain": [
              "<Figure size 687.119x200.667 with 1 Axes>"
            ]
          },
          "execution_count": 11,
          "metadata": {},
          "output_type": "execute_result"
        }
      ],
      "source": [
        "#  quantum circuit with 1 qubit and 1 classical bit for measurement\n",
        "qc = QuantumCircuit(1, 1)\n",
        "\n",
        "# sequential X, Y, Z, H, S, and T gates\n",
        "qc.x(0)\n",
        "qc.y(0)\n",
        "qc.z(0)\n",
        "qc.h(0)\n",
        "qc.s(0)\n",
        "qc.t(0)\n",
        "\n",
        "# qubit measurement\n",
        "qc.measure(0, 0)\n",
        "\n",
        "# drawing the circuit\n",
        "circuit_drawer(qc, output='mpl')\n"
      ]
    },
    {
      "cell_type": "markdown",
      "metadata": {
        "id": "R28FHyssSEiL"
      },
      "source": [
        "### **Explanation of the Circuit**\n",
        "\n",
        "1. **Initial State**: The qubit starts in the $ |0\\rangle $ state\n",
        "2. **X Gate**: The first gate applied is the **X gate**, which flips the state from $ |0\\rangle $ to $ |1\\rangle $\n",
        "3. **Y Gate**: Next, the **Y gate** is applied. This introduces a phase of $ \\pi/2 $ and flips the qubit’s state\n",
        "4. **Z Gate**: The **Z gate** applies a phase shift of $ \\pi $ to the $ |1\\rangle $ state, leaving the probability of measurement unchanged but altering the relative phase\n",
        "5. **H Gate**: The **Hadamard gate** creates a superposition state, meaning the qubit will have an equal probability of being measured as $ |0\\rangle $ or $ |1\\rangle $\n",
        "6. **S Gate**: The **Phase (S) gate** introduces a phase shift of $ \\pi/2 $ to the $ |1\\rangle $ state\n",
        "7. **T Gate**: The **T gate** introduces a finer phase shift of $ \\pi/4 $ to the $ |1\\rangle $ state\n",
        "8. Once the circuit is created, it is executed on a quantum simulator to observe the outcomes. Each gate transforms the qubit state, and the final measurement gives a result based on the cumulative effect of all the gates"
      ]
    },
    {
      "cell_type": "code",
      "execution_count": null,
      "metadata": {
        "id": "gD0kaRbOSEiN",
        "outputId": "e61023e7-c60c-4bfb-dcbc-f605224aea97"
      },
      "outputs": [
        {
          "data": {
            "text/plain": [
              "[0. -0.70710678j,0.5+0.5j       ]"
            ]
          },
          "execution_count": 12,
          "metadata": {},
          "output_type": "execute_result"
        }
      ],
      "source": [
        "ket0 = Statevector([1,0])\n",
        "v = ket0.evolve(circuit)\n",
        "v.draw(\"text\")"
      ]
    },
    {
      "cell_type": "code",
      "execution_count": null,
      "metadata": {
        "id": "IKg9pvNDSEiN",
        "outputId": "511c8102-c288-4bc9-a43f-4df5a43228e3"
      },
      "outputs": [
        {
          "data": {
            "image/png": "[encoded data removed]",
            "text/plain": [
              "<Figure size 640x480 with 1 Axes>"
            ]
          },
          "execution_count": 13,
          "metadata": {},
          "output_type": "execute_result"
        }
      ],
      "source": [
        "stats = v.sample_counts(10000)\n",
        "plot_histogram(stats)"
      ]
    },
    {
      "cell_type": "code",
      "execution_count": null,
      "metadata": {
        "id": "gL1gDCibSEiN"
      },
      "outputs": [],
      "source": [
        "from IPython.display import display, Math\n",
        "# display(Math('R^2'))"
      ]
    },
    {
      "cell_type": "code",
      "execution_count": null,
      "metadata": {
        "id": "sMN5o1f2SEiO",
        "outputId": "6c19b629-a8cd-4f7e-f9ae-0bb20c7af750"
      },
      "outputs": [
        {
          "data": {
            "text/latex": [
              "$\\displaystyle  R = H * S * H  \\, matrix:$"
            ],
            "text/plain": [
              "<IPython.core.display.Math object>"
            ]
          },
          "metadata": {},
          "output_type": "display_data"
        },
        {
          "name": "stdout",
          "output_type": "stream",
          "text": [
            "Operator([[0.5+0.5j, 0.5-0.5j],\n",
            "          [0.5-0.5j, 0.5+0.5j]],\n",
            "         input_dims=(2,), output_dims=(2,))\n"
          ]
        }
      ],
      "source": [
        "# defining the operators\n",
        "H = Operator([[1/sqrt(2), 1/sqrt(2)], [1/sqrt(2), -1/sqrt(2)]])  # Hadamard\n",
        "S = Operator([[1, 0], [0, 1j]])  # S gate\n",
        "X = Operator([[0, 1], [1, 0]])  # Pauli-X gate(NOT gate)\n",
        "\n",
        "# R = H * S * H\n",
        "R = H @ S @ H\n",
        "display(Math(\" R = H * S * H  \\, matrix:\"))\n",
        "print(R)"
      ]
    },
    {
      "cell_type": "code",
      "execution_count": null,
      "metadata": {
        "id": "gLOvmSKgSEiO",
        "outputId": "8e10aa3f-b48e-4340-eec7-fcd8d4d4ec31"
      },
      "outputs": [
        {
          "data": {
            "text/latex": [
              "$\\displaystyle \n",
              "R^2 \\,  matrix:$"
            ],
            "text/plain": [
              "<IPython.core.display.Math object>"
            ]
          },
          "metadata": {},
          "output_type": "display_data"
        },
        {
          "name": "stdout",
          "output_type": "stream",
          "text": [
            "Operator([[0.-2.46519033e-32j, 1.+0.00000000e+00j],\n",
            "          [1.+0.00000000e+00j, 0.+2.46519033e-32j]],\n",
            "         input_dims=(2,), output_dims=(2,))\n"
          ]
        }
      ],
      "source": [
        "# calculating R-squared\n",
        "R_squared = R @ R\n",
        "display(Math(\"\\nR^2 \\,  matrix:\"))\n",
        "print(R_squared)"
      ]
    },
    {
      "cell_type": "code",
      "execution_count": null,
      "metadata": {
        "id": "g_HZxT4cSEiO",
        "outputId": "2bbe8b9c-b7a2-410d-f0ce-817eec6dd365"
      },
      "outputs": [
        {
          "data": {
            "text/latex": [
              "$\\displaystyle \n",
              "Pauli-X \\, (NOT gate) \\,matrix:$"
            ],
            "text/plain": [
              "<IPython.core.display.Math object>"
            ]
          },
          "metadata": {},
          "output_type": "display_data"
        },
        {
          "name": "stdout",
          "output_type": "stream",
          "text": [
            "Operator([[0.+0.j, 1.+0.j],\n",
            "          [1.+0.j, 0.+0.j]],\n",
            "         input_dims=(2,), output_dims=(2,))\n"
          ]
        }
      ],
      "source": [
        "# verifying R-squared is equal to the X (Pauli-X) gate\n",
        "display(Math(\"\\nPauli-X \\, (NOT gate) \\,matrix:\"))\n",
        "print(X)"
      ]
    },
    {
      "cell_type": "code",
      "execution_count": null,
      "metadata": {
        "id": "tmMc7aKmSEiP",
        "outputId": "bc6122dd-bc25-422d-aa93-c76b8457e75b"
      },
      "outputs": [
        {
          "data": {
            "text/latex": [
              "$\\displaystyle \n",
              "Is \\, R^2 \\, equal \\, to \\, the \\, Pauli-X \\, gate \\, (NOT gate)? \\, -> \\, $"
            ],
            "text/plain": [
              "<IPython.core.display.Math object>"
            ]
          },
          "metadata": {},
          "output_type": "display_data"
        },
        {
          "name": "stdout",
          "output_type": "stream",
          "text": [
            "True\n"
          ]
        }
      ],
      "source": [
        "# comparing R-squared with the X gate\n",
        "is_R_squared_equal_to_X = np.allclose(R_squared, X)\n",
        "display(Math(\"\\nIs \\, R^2 \\, equal \\, to \\, the \\, Pauli-X \\, gate \\, (NOT gate)? \\, -> \\, \"))\n",
        "print(is_R_squared_equal_to_X)"
      ]
    },
    {
      "cell_type": "code",
      "execution_count": null,
      "metadata": {
        "id": "IgsueC1DSEiP",
        "outputId": "e0eeff57-864f-4dd8-c586-092e7c966e59"
      },
      "outputs": [
        {
          "data": {
            "text/latex": [
              "$\\displaystyle \n",
              "R * R^† :$"
            ],
            "text/plain": [
              "<IPython.core.display.Math object>"
            ]
          },
          "metadata": {},
          "output_type": "display_data"
        },
        {
          "name": "stdout",
          "output_type": "stream",
          "text": [
            "Operator([[1.00000000e+00+0.j, 2.46519033e-32+0.j],\n",
            "          [2.46519033e-32+0.j, 1.00000000e+00+0.j]],\n",
            "         input_dims=(2,), output_dims=(2,))\n"
          ]
        }
      ],
      "source": [
        "# verifying if R is unitary (R * R† = I)\n",
        "R_dagger = np.conjugate(R).T  # R† (conjugate transpose of R)\n",
        "identity_check = R @ R_dagger  # R * R†\n",
        "\n",
        "display(Math(\"\\nR * R^† :\")) # Should be close to the identity matrix\n",
        "print(identity_check)"
      ]
    },
    {
      "cell_type": "code",
      "execution_count": null,
      "metadata": {
        "id": "qZX2bBtmSEiP",
        "outputId": "1ad5e4a0-f0d8-470b-a4e9-bba9fb6aa850"
      },
      "outputs": [
        {
          "data": {
            "text/latex": [
              "$\\displaystyle \n",
              "Is \\, R \\, unitary? \\, -> \\, $"
            ],
            "text/plain": [
              "<IPython.core.display.Math object>"
            ]
          },
          "metadata": {},
          "output_type": "display_data"
        },
        {
          "name": "stdout",
          "output_type": "stream",
          "text": [
            "True\n"
          ]
        }
      ],
      "source": [
        "# verifying if  the result is close to the identity matrix\n",
        "is_R_unitary = np.allclose(identity_check, np.eye(2))\n",
        "display(Math(\"\\nIs \\, R \\, unitary? \\, -> \\, \"))\n",
        "print(is_R_unitary)"
      ]
    },
    {
      "cell_type": "code",
      "execution_count": null,
      "metadata": {
        "id": "GKminkiWSEiP",
        "outputId": "c5e179fb-52d1-490e-ff33-cde65d6c4de2"
      },
      "outputs": [
        {
          "name": "stdout",
          "output_type": "stream",
          "text": [
            "Controlled unitary operation C(x):\n",
            "[[1 0 0 0]\n",
            " [0 1 0 0]\n",
            " [0 0 0 1]\n",
            " [0 0 1 0]]\n"
          ]
        }
      ],
      "source": [
        "import numpy as np\n",
        "\n",
        "# Define the Identity matrix and Pauli-X gate\n",
        "I = np.array([[1, 0],\n",
        "              [0, 1]])\n",
        "\n",
        "X = np.array([[0, 1],\n",
        "              [1, 0]])\n",
        "\n",
        "# Define the projector |0><0| and |1><1|\n",
        "proj_0 = np.array([[1, 0],\n",
        "                   [0, 0]])\n",
        "\n",
        "proj_1 = np.array([[0, 0],\n",
        "                   [0, 1]])\n",
        "\n",
        "# Calculate the controlled unitary operation C(x)\n",
        "C_x = np.kron(proj_0, I) + np.kron(proj_1, X)\n",
        "\n",
        "# Display the result\n",
        "print(\"Controlled unitary operation C(x):\")\n",
        "print(C_x)\n"
      ]
    },
    {
      "cell_type": "code",
      "execution_count": null,
      "metadata": {
        "id": "k-FPVtXRSEiQ",
        "outputId": "ed69ede2-6016-4c05-b304-8fd567e5b171"
      },
      "outputs": [
        {
          "name": "stdout",
          "output_type": "stream",
          "text": [
            "CSWAP Matrix:\n",
            "[[1 0 0 0 0 0 0 0]\n",
            " [0 1 0 0 0 0 0 0]\n",
            " [0 0 1 0 0 0 0 0]\n",
            " [0 0 0 1 0 0 0 0]\n",
            " [0 0 0 0 1 0 0 0]\n",
            " [0 0 0 0 0 0 1 0]\n",
            " [0 0 0 0 0 1 0 0]\n",
            " [0 0 0 0 0 0 0 1]]\n"
          ]
        }
      ],
      "source": [
        "import numpy as np\n",
        "\n",
        "# Define basic matrices\n",
        "I = np.array([[1, 0], [0, 1]])  # Identity matrix (2x2)\n",
        "\n",
        "# SWAP derived from the definition of swapping the initial states and stuff\n",
        "# |00> SWAP |00>\n",
        "# |01> SWAP |10>\n",
        "# |10> SWAP |01>\n",
        "# |11> SWAP |11>\n",
        "\n",
        "SWAP = np.array([[1, 0, 0, 0],\n",
        "                 [0, 0, 1, 0],\n",
        "                 [0, 1, 0, 0],\n",
        "                 [0, 0, 0, 1]])  # SWAP gate (acts on 2 qubits)\n",
        "\n",
        "# Projectors for the control qubit\n",
        "proj_0 = np.array([[1, 0], [0, 0]])  # |0><0| projector\n",
        "proj_1 = np.array([[0, 0], [0, 1]])  # |1><1| projector\n",
        "\n",
        "# Construct the CSWAP operation\n",
        "# When control qubit is |0>, we apply Identity to the two target qubits\n",
        "control_0 = np.kron(proj_0, np.kron(I, I))  # |0><0| ⊗ I ⊗ I\n",
        "\n",
        "# When control qubit is |1>, we apply the SWAP gate to the two target qubits\n",
        "control_1 = np.kron(proj_1, SWAP)  # |1><1| ⊗ SWAP\n",
        "\n",
        "# Combine the two cases to form the full CSWAP gate\n",
        "CSWAP = control_0 + control_1\n",
        "\n",
        "# Display the CSWAP matrix\n",
        "print(\"CSWAP Matrix:\")\n",
        "print(CSWAP)"
      ]
    },
    {
      "cell_type": "code",
      "execution_count": null,
      "metadata": {
        "id": "T7TZk7vzSEiQ",
        "outputId": "7fdbd4ca-634e-4c7a-fabc-4c76a215dc9a"
      },
      "outputs": [
        {
          "name": "stdout",
          "output_type": "stream",
          "text": [
            "\n",
            "\n",
            "\n",
            "[[1 0 0 0]\n",
            " [0 1 0 0]\n",
            " [0 0 1 0]\n",
            " [0 0 0 1]]\n",
            "\n",
            "\n",
            "[[1 0]\n",
            " [0 0]]\n",
            "\n",
            "\n",
            "[[1 0 0 0 0 0 0 0]\n",
            " [0 1 0 0 0 0 0 0]\n",
            " [0 0 1 0 0 0 0 0]\n",
            " [0 0 0 1 0 0 0 0]\n",
            " [0 0 0 0 0 0 0 0]\n",
            " [0 0 0 0 0 0 0 0]\n",
            " [0 0 0 0 0 0 0 0]\n",
            " [0 0 0 0 0 0 0 0]]\n"
          ]
        }
      ],
      "source": [
        "kron1 = np.kron(I,I)\n",
        "\n",
        "\n",
        "print(\"\\n\\n\")\n",
        "\n",
        "print(kron1)\n",
        "\n",
        "print(\"\\n\")\n",
        "\n",
        "print(proj_0)\n",
        "\n",
        "print(\"\\n\")\n",
        "\n",
        "control = np.kron(proj_0,kron1)\n",
        "print(control)"
      ]
    },
    {
      "cell_type": "code",
      "execution_count": null,
      "metadata": {
        "id": "V_9KEFK3SEiQ"
      },
      "outputs": [],
      "source": []
    }
  ],
  "metadata": {
    "kernelspec": {
      "display_name": "It_Works",
      "language": "python",
      "name": "python3"
    },
    "language_info": {
      "codemirror_mode": {
        "name": "ipython",
        "version": 3
      },
      "file_extension": ".py",
      "mimetype": "text/x-python",
      "name": "python",
      "nbconvert_exporter": "python",
      "pygments_lexer": "ipython3",
      "version": "3.10.14"
    },
    "colab": {
      "provenance": [],
      "include_colab_link": true
    }
  },
  "nbformat": 4,
  "nbformat_minor": 0
}