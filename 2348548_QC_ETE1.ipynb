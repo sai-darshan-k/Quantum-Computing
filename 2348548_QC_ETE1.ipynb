{
  "cells": [
    {
      "cell_type": "markdown",
      "metadata": {
        "id": "view-in-github",
        "colab_type": "text"
      },
      "source": [
        "<a href=\"https://colab.research.google.com/github/sai-darshan-k/Quantum-Computing/blob/main/2348548_QC_ETE1.ipynb\" target=\"_parent\"><img src=\"https://colab.research.google.com/assets/colab-badge.svg\" alt=\"Open In Colab\"/></a>"
      ]
    },
    {
      "cell_type": "code",
      "execution_count": null,
      "metadata": {
        "id": "wxvSVWzfwPxM"
      },
      "outputs": [],
      "source": [
        "from qiskit import QuantumCircuit\n",
        "from qiskit.quantum_info import Statevector\n",
        "from qiskit.visualization import plot_histogram\n",
        "import numpy as np\n",
        "from IPython.display import display, Math"
      ]
    },
    {
      "cell_type": "markdown",
      "metadata": {
        "id": "EMoA2OwwwPxU"
      },
      "source": [
        "- The given quantum ciruit is a Toffoli Gate which uses two control bits($ q_0 , q_1$) and one target bit($q_2$)\n",
        "- This gate flips the target qubit based on the states of its two control bits i.e both of them should be 1\n",
        "- Its one of the fundamental gates which creates entanglement between the qubits"
      ]
    },
    {
      "cell_type": "code",
      "execution_count": null,
      "metadata": {
        "id": "G9bRBwCkwPxV",
        "outputId": "123b0da9-f034-4546-f310-65c57a288741"
      },
      "outputs": [
        {
          "data": {
            "image/png": "[encoded data removed]",
            "text/plain": [
              "<Figure size 287.496x284.278 with 1 Axes>"
            ]
          },
          "metadata": {},
          "output_type": "display_data"
        }
      ],
      "source": [
        "# Designing the quantum circuit with Qiskit\n",
        "qc1 = QuantumCircuit(3)\n",
        "\n",
        "# hadamard gate for first qubit\n",
        "qc1.h(0)\n",
        "\n",
        "# Toffoli gate for the target qubit q2\n",
        "qc1.ccx(0, 1, 2)\n",
        "\n",
        "display((qc1.draw('mpl')))\n"
      ]
    },
    {
      "cell_type": "markdown",
      "metadata": {
        "id": "OUYqrtr_wPxY"
      },
      "source": [
        "### Measuring the Toffoli Gate Circuit"
      ]
    },
    {
      "cell_type": "code",
      "execution_count": null,
      "metadata": {
        "id": "bU7ZqBd_wPxZ",
        "outputId": "85c7eaf2-3af2-4e86-b78c-7e0bc3a53300"
      },
      "outputs": [
        {
          "data": {
            "text/latex": [
              "$$\\frac{\\sqrt{2}}{2} |000\\rangle+\\frac{\\sqrt{2}}{2} |001\\rangle$$"
            ],
            "text/plain": [
              "<IPython.core.display.Latex object>"
            ]
          },
          "metadata": {},
          "output_type": "display_data"
        }
      ],
      "source": [
        "# final statevector of the circuit\n",
        "state = Statevector.from_instruction(qc1)\n",
        "display(state.draw('latex'))"
      ]
    },
    {
      "cell_type": "code",
      "execution_count": null,
      "metadata": {
        "id": "wf0HV9BAwPxa",
        "outputId": "1017b9da-f09e-4642-8561-f8de9ac36de4"
      },
      "outputs": [
        {
          "name": "stdout",
          "output_type": "stream",
          "text": [
            "Probabilities: [0.  0.  0.  0.5 0.  0.  0.5 0. ]\n",
            "Measurement result: 110\n"
          ]
        }
      ],
      "source": [
        "def measure_statevector(state):\n",
        "    # probabilities of each computational basis state\n",
        "    probabilities = np.abs(state) ** 2\n",
        "    num_qubits = int(np.log2(len(state)))  # Number of qubits from length of statevector\n",
        "    print(f\"Probabilities: {probabilities}\")\n",
        "\n",
        "    # Randomly choose a state based on probabilities\n",
        "    outcome = np.random.choice(len(probabilities), p=probabilities)\n",
        "\n",
        "    # Convert outcome to a binary string representing the measured state (with num_qubits bits)\n",
        "    measured_state = format(outcome, f'0{num_qubits}b')\n",
        "    return measured_state\n",
        "\n",
        "# Measure the statevector\n",
        "measurement_result = measure_statevector(state.data)\n",
        "print(\"Measurement result:\", measurement_result)"
      ]
    },
    {
      "cell_type": "code",
      "execution_count": null,
      "metadata": {
        "id": "LHGqRnHhwPxb"
      },
      "outputs": [],
      "source": []
    },
    {
      "cell_type": "markdown",
      "metadata": {
        "id": "pJ08JILZwPxc"
      },
      "source": [
        "- The Fredkin gate, also known as the Controlled-SWAP (CSWAP) gate, is a reversible, three-qubit gate. Here’s a breakdown of its key features:\n",
        "\n",
        "- It swaps the states of two target qubits if the control qubit is in the |1⟩ state. If the control qubit is |0⟩, the target qubits remain unchanged.\n",
        "\n",
        "\n",
        "- The gate takes three qubits: one control qubit and two target qubits.\n",
        "\n",
        "- The output depends on the control qubit:\n",
        "\n",
        "- If the control qubit is |0⟩, the target qubits pass through unchanged.\n",
        "\n",
        "- If the control qubit is |1⟩, the states of the two target qubits are swapped."
      ]
    },
    {
      "cell_type": "code",
      "execution_count": null,
      "metadata": {
        "id": "8ybSEZFfwPxd",
        "outputId": "4cbe7f74-0216-4efa-9667-1756a8693a9c"
      },
      "outputs": [
        {
          "data": {
            "image/png": "[encoded data removed]",
            "text/plain": [
              "<Figure size 287.496x284.278 with 1 Axes>"
            ]
          },
          "execution_count": 33,
          "metadata": {},
          "output_type": "execute_result"
        }
      ],
      "source": [
        "# Quantum Circuit 2 (Fredkin Operation)\n",
        "qc2 = QuantumCircuit(3)\n",
        "\n",
        "# Hadamard gate on q0\n",
        "qc2.h(0)\n",
        "# X gate on q2\n",
        "qc2.x(2)\n",
        "# Fredkin gate: control on q0, swap between q1 and q2\n",
        "qc2.cswap(0, 1, 2)\n",
        "\n",
        "qc2.draw('mpl')\n",
        "\n"
      ]
    },
    {
      "cell_type": "code",
      "execution_count": null,
      "metadata": {
        "id": "2LUtRsS3wPxd",
        "outputId": "c13f6b9f-126c-420b-b698-7b534e9b298f"
      },
      "outputs": [
        {
          "data": {
            "text/latex": [
              "$$\\frac{\\sqrt{2}}{2} |000\\rangle+\\frac{\\sqrt{2}}{2} |001\\rangle$$"
            ],
            "text/plain": [
              "<IPython.core.display.Latex object>"
            ]
          },
          "metadata": {},
          "output_type": "display_data"
        }
      ],
      "source": [
        "# final statevector of the circuit\n",
        "state1 = Statevector.from_instruction(qc2)\n",
        "display(state.draw('latex'))"
      ]
    },
    {
      "cell_type": "code",
      "execution_count": null,
      "metadata": {
        "id": "JkjECvL5wPxe",
        "outputId": "898cdcb4-1acb-4207-e248-dd35de7178af"
      },
      "outputs": [
        {
          "name": "stdout",
          "output_type": "stream",
          "text": [
            "Probabilities: [0.  0.  0.  0.5 0.5 0.  0.  0. ]\n",
            "Measurement result: 011\n"
          ]
        }
      ],
      "source": [
        "# Function to measure the statevector using numpy\n",
        "def measure_statevector(state):\n",
        "    # probabilities of each computational basis state\n",
        "    probabilities = np.abs(state) ** 2\n",
        "    num_qubits = int(np.log2(len(state)))  # Number of qubits from length of statevector\n",
        "    print(f\"Probabilities: {probabilities}\")\n",
        "\n",
        "    # Randomly choose a state based on probabilities\n",
        "    outcome = np.random.choice(len(probabilities), p=probabilities)\n",
        "\n",
        "    # Convert outcome to a binary string representing the measured state (with num_qubits bits)\n",
        "    measured_state = format(outcome, f'0{num_qubits}b')\n",
        "    return measured_state\n",
        "\n",
        "# Measure the statevector\n",
        "measurement_result = measure_statevector(state1.data)\n",
        "print(\"Measurement result:\", measurement_result)"
      ]
    },
    {
      "cell_type": "code",
      "execution_count": null,
      "metadata": {
        "id": "KTrcmoS3wPxf",
        "outputId": "0606ebc7-a9e2-43fc-9743-11556c8d813b"
      },
      "outputs": [
        {
          "data": {
            "image/png": "[encoded data removed]",
            "text/plain": [
              "<Figure size 538.128x200.667 with 1 Axes>"
            ]
          },
          "metadata": {},
          "output_type": "display_data"
        }
      ],
      "source": [
        "# Quantum Circuit 3\n",
        "\n",
        "circuit = QuantumCircuit(2)\n",
        "\n",
        "# hadamard\n",
        "circuit.h(0)\n",
        "# CNOT operation control bit is qo and target is q1\n",
        "circuit.cx(0,1)\n",
        "# Z operation on 2nd qubit\n",
        "circuit.z(1)\n",
        "# CNOT operation control bit as q1 and target is q0\n",
        "circuit.cx(1,0)\n",
        "# hadamard operation on the 2nd qubit\n",
        "circuit.h(1)\n",
        "\n",
        "display(circuit.draw('mpl'))"
      ]
    },
    {
      "cell_type": "markdown",
      "metadata": {
        "id": "19ivE6VpwPxg"
      },
      "source": [
        "## Explanation of the Operators\n",
        "\n",
        "\n",
        "### 1. **Pauli-Z Gate** (Phase-Flip Gate)\n",
        "\n",
        "The Pauli-Z gate performs a phase flip on the $ |1\\rangle $ state, leaving $ |0\\rangle $ unchanged. It is represented as:\n",
        "\n",
        "$\n",
        "Z = \\begin{pmatrix}\n",
        "1 & 0 \\\\\n",
        "0 & -1\n",
        "\\end{pmatrix}\n",
        "$\n",
        "\n",
        "This gate is used to change the relative phase between $ |0\\rangle $ and $ |1\\rangle $, which is crucial for interference effects in quantum algorithms.\n",
        "\n",
        "### 2. **Hadamard Gate (H)**\n",
        "\n",
        "The Hadamard gate creates a superposition of the computational basis states $ |0\\rangle $ and $ |1\\rangle $. It transforms the qubit into an equal superposition, and is mathematically given by:\n",
        "\n",
        "$\n",
        "H = \\frac{1}{\\sqrt{2}} \\begin{pmatrix}\n",
        "1 & 1 \\\\\n",
        "1 & -1\n",
        "\\end{pmatrix}\n",
        "$\n",
        "\n",
        "\n"
      ]
    },
    {
      "cell_type": "code",
      "execution_count": null,
      "metadata": {
        "id": "dOm8K4UawPxg",
        "outputId": "d6d6d8d1-ecee-45fd-a5ea-a1063e3e1d91"
      },
      "outputs": [
        {
          "name": "stdout",
          "output_type": "stream",
          "text": [
            "State after applying T then H:\n",
            "[[0.70710678+0.j]\n",
            " [0.70710678+0.j]]\n",
            "State after applying H then T:\n",
            "[[0.70710678+0.j ]\n",
            " [0.5       +0.5j]]\n",
            "Are the states equal?  False\n"
          ]
        }
      ],
      "source": [
        "# Answer for Part B of the question\n",
        "\n",
        "# quantum gates as matrices\n",
        "H = (1/np.sqrt(2)) * np.array([[1, 1], [1, -1]])  # Hadamard gate\n",
        "S = np.array([[1, 0], [0, 1j]])  # Phase gate (S)\n",
        "T = np.array([[1, 0], [0, np.exp(1j * np.pi / 4)]])  # T-gate\n",
        "\n",
        "# example initial state |ψ⟩\n",
        "psi = np.array([[1], [0]])  # |0⟩ state\n",
        "\n",
        "# T then H\n",
        "state_TH = np.dot(H, np.dot(T, psi))\n",
        "\n",
        "# H then T\n",
        "state_HT = np.dot(T, np.dot(H, psi))\n",
        "\n",
        "print(\"State after applying T then H:\")\n",
        "print(state_TH)\n",
        "\n",
        "print(\"State after applying H then T:\")\n",
        "print(state_HT)\n",
        "\n",
        "print(\"Are the states equal? \", np.allclose(state_TH, state_HT))\n"
      ]
    }
  ],
  "metadata": {
    "kernelspec": {
      "display_name": "It_Works",
      "language": "python",
      "name": "python3"
    },
    "language_info": {
      "codemirror_mode": {
        "name": "ipython",
        "version": 3
      },
      "file_extension": ".py",
      "mimetype": "text/x-python",
      "name": "python",
      "nbconvert_exporter": "python",
      "pygments_lexer": "ipython3",
      "version": "3.10.14"
    },
    "colab": {
      "provenance": [],
      "include_colab_link": true
    }
  },
  "nbformat": 4,
  "nbformat_minor": 0
}